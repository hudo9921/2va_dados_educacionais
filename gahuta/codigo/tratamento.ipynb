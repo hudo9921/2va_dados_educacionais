{
 "cells": [
  {
   "cell_type": "code",
   "execution_count": 1,
   "id": "42b27afe",
   "metadata": {},
   "outputs": [],
   "source": [
    "import pandas as pd"
   ]
  },
  {
   "cell_type": "markdown",
   "id": "af0f9d4e",
   "metadata": {},
   "source": [
    "## Pegando as informacoes das provas (todas caderno azul) e exportando no final"
   ]
  },
  {
   "cell_type": "markdown",
   "id": "af6b94c6",
   "metadata": {},
   "source": [
    "Prova de 2019"
   ]
  },
  {
   "cell_type": "code",
   "execution_count": 2,
   "id": "e44afa60",
   "metadata": {},
   "outputs": [
    {
     "name": "stdout",
     "output_type": "stream",
     "text": [
      "     CO_POSICAO SG_AREA  CO_ITEM TX_GABARITO  CO_HABILIDADE  IN_ITEM_ABAN  \\\n",
      "11            1      LC    55166           B              7             0   \n",
      "33            2      LC    54110           D              7             0   \n",
      "45            3      LC    23564           A              6             0   \n",
      "69            4      LC    31954           B              8             0   \n",
      "108           5      LC   118180           E              5             0   \n",
      "\n",
      "    TX_MOTIVO_ABAN  NU_PARAM_A  NU_PARAM_B  NU_PARAM_C TX_COR  CO_PROVA  \\\n",
      "11             NaN     2.66039     0.61130     0.19627   Azul       511   \n",
      "33             NaN     2.82077     0.63692     0.16707   Azul       511   \n",
      "45             NaN     4.08473     0.41261     0.20536   Azul       511   \n",
      "69             NaN     2.02433     0.34872     0.20967   Azul       511   \n",
      "108            NaN     5.61439     0.49582     0.14570   Azul       511   \n",
      "\n",
      "     TP_LINGUA  IN_ITEM_ADAPTADO  \n",
      "11         0.0                 0  \n",
      "33         0.0                 0  \n",
      "45         0.0                 0  \n",
      "69         0.0                 0  \n",
      "108        0.0                 0  \n",
      "Total de itens da prova azul em 2019 (sem língua espanhola nem abandono): 175\n"
     ]
    }
   ],
   "source": [
    "#carregando a prova de 2019 e pegando so a prova azul\n",
    "itens19 = pd.read_csv(\"../dados/raw/ITENS_PROVA_2019.csv\", encoding=\"ISO-8859-1\", sep=\";\")\n",
    "\n",
    "codigos_provas_azuis19 = [503, 507, 511, 515]\n",
    "\n",
    "# Filtro inicial: apenas provas azuis\n",
    "itens_azuis19 = itens19[itens19[\"CO_PROVA\"].isin(codigos_provas_azuis19)]\n",
    "\n",
    "# Filtro adicional: TP_LINGUA != 1 (ou seja, não espanhol) e TX_MOTIVO_ABAN vazio\n",
    "itens_azuis19 = itens_azuis19[\n",
    "    ((itens_azuis19[\"TP_LINGUA\"] != 1) | (itens_azuis19[\"TP_LINGUA\"].isna())) &\n",
    "    (itens_azuis19[\"TX_MOTIVO_ABAN\"].isna())\n",
    "]\n",
    "\n",
    "print(itens_azuis19.head())\n",
    "print(f\"Total de itens da prova azul em 2019 (sem língua espanhola nem abandono): {len(itens_azuis19)}\")"
   ]
  },
  {
   "cell_type": "markdown",
   "id": "7dc9912f",
   "metadata": {},
   "source": [
    "2020"
   ]
  },
  {
   "cell_type": "code",
   "execution_count": 3,
   "id": "04cea433",
   "metadata": {},
   "outputs": [
    {
     "name": "stdout",
     "output_type": "stream",
     "text": [
      "     CO_POSICAO SG_AREA  CO_ITEM TX_GABARITO  CO_HABILIDADE  IN_ITEM_ABAN  \\\n",
      "62          145      MT     7633           B             11             0   \n",
      "68          142      MT     8028           E             28             0   \n",
      "88          101      CN    10035           C             16             0   \n",
      "122         160      MT    10660           C             18             0   \n",
      "142          28      LC    11437           E             14             0   \n",
      "\n",
      "    TX_MOTIVO_ABAN  NU_PARAM_A  NU_PARAM_B  NU_PARAM_C TX_COR  CO_PROVA  \\\n",
      "62             NaN     2.73149     2.49854     0.13472   AZUL       587   \n",
      "68             NaN     2.09221     0.99371     0.13290   AZUL       587   \n",
      "88             NaN     2.40418     0.72028     0.21294   AZUL       597   \n",
      "122            NaN     1.75839     2.40752     0.16633   AZUL       587   \n",
      "142            NaN     1.16098     1.00730     0.21912   AZUL       577   \n",
      "\n",
      "     TP_LINGUA  IN_ITEM_ADAPTADO  TP_VERSAO_DIGITAL  \n",
      "62         NaN                 0                NaN  \n",
      "68         NaN                 0                NaN  \n",
      "88         NaN                 0                NaN  \n",
      "122        NaN                 0                NaN  \n",
      "142        NaN                 0                NaN  \n",
      "Total de itens da prova azul em 2020 (sem língua espanhola nem abandono): 178\n"
     ]
    }
   ],
   "source": [
    "# Carregando a prova de 2020\n",
    "itens20 = pd.read_csv(\"../dados/raw/ITENS_PROVA_2020.csv\", encoding=\"ISO-8859-1\", sep=\";\")\n",
    "\n",
    "# Códigos das provas azuis em 2020 \n",
    "codigos_provas_azuis20 = [597,587,577,567]  \n",
    "\n",
    "# Filtro inicial: apenas provas azuis\n",
    "itens_azuis20 = itens20[itens20[\"CO_PROVA\"].isin(codigos_provas_azuis20)]\n",
    "\n",
    "# Filtro adicional: TP_LINGUA != 1 e TX_MOTIVO_ABAN vazio\n",
    "itens_azuis20 = itens_azuis20[\n",
    "    ((itens_azuis20[\"TP_LINGUA\"] != 1) | (itens_azuis20[\"TP_LINGUA\"].isna())) &\n",
    "    (itens_azuis20[\"TX_MOTIVO_ABAN\"].isna())\n",
    "]\n",
    "\n",
    "print(itens_azuis20.head())\n",
    "print(f\"Total de itens da prova azul em 2020 (sem língua espanhola nem abandono): {len(itens_azuis20)}\")\n"
   ]
  },
  {
   "cell_type": "markdown",
   "id": "bb3cf24c",
   "metadata": {},
   "source": [
    "2021"
   ]
  },
  {
   "cell_type": "code",
   "execution_count": 4,
   "id": "3ee191d6",
   "metadata": {},
   "outputs": [
    {
     "name": "stdout",
     "output_type": "stream",
     "text": [
      "   CO_POSICAO SG_AREA  CO_ITEM TX_GABARITO  CO_HABILIDADE  IN_ITEM_ABAN  \\\n",
      "0         102      CN    62293           B            5.0             0   \n",
      "1         122      CN    82265           C            8.0             0   \n",
      "2         125      CN    81640           B           21.0             0   \n",
      "3          95      CN   117843           A           27.0             0   \n",
      "4          96      CN    63600           B           15.0             0   \n",
      "\n",
      "  TX_MOTIVO_ABAN  NU_PARAM_A  NU_PARAM_B  NU_PARAM_C TX_COR  CO_PROVA  \\\n",
      "0            NaN     3.00296     1.17427     0.16918   AZUL       909   \n",
      "1            NaN     2.63278     0.67271     0.32905   AZUL       909   \n",
      "2            NaN     1.70410     1.93672     0.18178   AZUL       909   \n",
      "3            NaN     4.13911     0.76309     0.13487   AZUL       909   \n",
      "4            NaN     2.78598     1.12828     0.24608   AZUL       909   \n",
      "\n",
      "   TP_LINGUA  IN_ITEM_ADAPTADO  \n",
      "0        NaN               NaN  \n",
      "1        NaN               NaN  \n",
      "2        NaN               NaN  \n",
      "3        NaN               NaN  \n",
      "4        NaN               NaN  \n",
      "Total de itens da prova azul em 2021 (sem língua espanhola nem abandono): 176\n"
     ]
    }
   ],
   "source": [
    "# Carregando a prova de 2021\n",
    "itens21 = pd.read_csv(\"../dados/raw/ITENS_PROVA_2021.csv\", encoding=\"ISO-8859-1\", sep=\";\")\n",
    "\n",
    "# Códigos das provas azuis em 2021\n",
    "codigos_provas_azuis21 = [879,889,899,909] \n",
    "\n",
    "# Filtro inicial: apenas provas azuis\n",
    "itens_azuis21 = itens21[itens21[\"CO_PROVA\"].isin(codigos_provas_azuis21)]\n",
    "\n",
    "# Filtro adicional: TP_LINGUA != 1 (não espanhol) e TX_MOTIVO_ABAN vazio\n",
    "itens_azuis21 = itens_azuis21[\n",
    "    ((itens_azuis21[\"TP_LINGUA\"] != 1) | (itens_azuis21[\"TP_LINGUA\"].isna())) &\n",
    "    (itens_azuis21[\"TX_MOTIVO_ABAN\"].isna())\n",
    "]\n",
    "\n",
    "# Resultado\n",
    "print(itens_azuis21.head())\n",
    "print(f\"Total de itens da prova azul em 2021 (sem língua espanhola nem abandono): {len(itens_azuis21)}\")\n"
   ]
  },
  {
   "cell_type": "markdown",
   "id": "44b89716",
   "metadata": {},
   "source": [
    "2022"
   ]
  },
  {
   "cell_type": "code",
   "execution_count": 5,
   "id": "65eab2c2",
   "metadata": {},
   "outputs": [
    {
     "name": "stdout",
     "output_type": "stream",
     "text": [
      "   CO_POSICAO SG_AREA  CO_ITEM TX_GABARITO  CO_HABILIDADE  IN_ITEM_ABAN  \\\n",
      "0          46      CH   140506           D             26             0   \n",
      "1          90      CH   111984           A              3             0   \n",
      "2          89      CH   140190           C              5             0   \n",
      "3          88      CH    96516           E              2             0   \n",
      "4          87      CH   140572           B             19             0   \n",
      "\n",
      "  TX_MOTIVO_ABAN  NU_PARAM_A  NU_PARAM_B  NU_PARAM_C TX_COR  CO_PROVA  \\\n",
      "0            NaN     0.98121     1.34897     0.06218   AZUL      1055   \n",
      "1            NaN     1.90716     1.36087     0.22521   AZUL      1055   \n",
      "2            NaN     1.94428     0.27387     0.14788   AZUL      1055   \n",
      "3            NaN     1.96743     2.20588     0.08863   AZUL      1055   \n",
      "4            NaN     2.46583     0.73772     0.17053   AZUL      1055   \n",
      "\n",
      "   TP_LINGUA  IN_ITEM_ADAPTADO  \n",
      "0        NaN                 0  \n",
      "1        NaN                 0  \n",
      "2        NaN                 0  \n",
      "3        NaN                 0  \n",
      "4        NaN                 0  \n",
      "Total de itens da prova azul em 2022 (sem língua espanhola nem abandono): 173\n"
     ]
    }
   ],
   "source": [
    "# Carregando a prova de 2022\n",
    "itens22 = pd.read_csv(\"../dados/raw/ITENS_PROVA_2022.csv\", encoding=\"ISO-8859-1\", sep=\";\")\n",
    "\n",
    "# Códigos das provas azuis em 2022\n",
    "# Exemplo baseado na sequência CN, CH, LC, MT como nos anos anteriores — ajuste se necessário\n",
    "codigos_provas_azuis22 = [1055, 1065, 1075, 1085]\n",
    "\n",
    "# Filtro inicial: apenas provas azuis\n",
    "itens_azuis22 = itens22[itens22[\"CO_PROVA\"].isin(codigos_provas_azuis22)]\n",
    "\n",
    "# Filtro adicional: TP_LINGUA != 1 (não espanhol) e TX_MOTIVO_ABAN vazio\n",
    "itens_azuis22 = itens_azuis22[\n",
    "    ((itens_azuis22[\"TP_LINGUA\"] != 1) | (itens_azuis22[\"TP_LINGUA\"].isna())) &\n",
    "    (itens_azuis22[\"TX_MOTIVO_ABAN\"].isna())\n",
    "]\n",
    "\n",
    "# Resultado\n",
    "print(itens_azuis22.head())\n",
    "print(f\"Total de itens da prova azul em 2022 (sem língua espanhola nem abandono): {len(itens_azuis22)}\")\n"
   ]
  },
  {
   "cell_type": "markdown",
   "id": "e041f066",
   "metadata": {},
   "source": [
    "2023"
   ]
  },
  {
   "cell_type": "code",
   "execution_count": 6,
   "id": "c3e40d8d",
   "metadata": {},
   "outputs": [
    {
     "name": "stdout",
     "output_type": "stream",
     "text": [
      "     CO_POSICAO SG_AREA  CO_ITEM TX_GABARITO  CO_HABILIDADE  IN_ITEM_ABAN  \\\n",
      "85           22      LC   140847           C             20             0   \n",
      "86           16      LC   140918           A             26             0   \n",
      "118         107      CN    12018           D             29             0   \n",
      "133          96      CN    63155           D             26             0   \n",
      "264         145      MT   125929           B              9             0   \n",
      "\n",
      "    TX_MOTIVO_ABAN  NU_PARAM_A  NU_PARAM_B  NU_PARAM_C TX_COR  CO_PROVA  \\\n",
      "85             NaN     3.15133     0.25141     0.17380   AZUL      1201   \n",
      "86             NaN     2.96562     0.57507     0.16642   AZUL      1201   \n",
      "118            NaN     1.82986     1.82071     0.19864   AZUL      1221   \n",
      "133            NaN     3.97972     1.34607     0.24211   AZUL      1221   \n",
      "264            NaN     1.58702     2.19080     0.24232   AZUL      1211   \n",
      "\n",
      "     TP_LINGUA  IN_ITEM_ADAPTADO  \n",
      "85         NaN                 0  \n",
      "86         NaN                 0  \n",
      "118        NaN                 0  \n",
      "133        NaN                 0  \n",
      "264        NaN                 0  \n",
      "Total de itens da prova azul em 2023 (sem língua espanhola nem abandono): 178\n"
     ]
    }
   ],
   "source": [
    "# Carregando a prova de 2023\n",
    "itens23 = pd.read_csv(\"../dados/raw/ITENS_PROVA_2023.csv\", encoding=\"ISO-8859-1\", sep=\";\")\n",
    "\n",
    "# Códigos das provas azuis em 2023 (ajuste se necessário)\n",
    "codigos_provas_azuis23 = [1191,1201,1211,1221]  # CN, CH, LC, MT\n",
    "\n",
    "# Filtro inicial: apenas provas azuis\n",
    "itens_azuis23 = itens23[itens23[\"CO_PROVA\"].isin(codigos_provas_azuis23)]\n",
    "\n",
    "# Filtro adicional: TP_LINGUA != 1 (não espanhol) e TX_MOTIVO_ABAN vazio\n",
    "itens_azuis23 = itens_azuis23[\n",
    "    ((itens_azuis23[\"TP_LINGUA\"] != 1) | (itens_azuis23[\"TP_LINGUA\"].isna())) &\n",
    "    (itens_azuis23[\"TX_MOTIVO_ABAN\"].isna())\n",
    "]\n",
    "\n",
    "# Resultado\n",
    "print(itens_azuis23.head())\n",
    "print(f\"Total de itens da prova azul em 2023 (sem língua espanhola nem abandono): {len(itens_azuis23)}\")\n"
   ]
  },
  {
   "cell_type": "markdown",
   "id": "63b9298f",
   "metadata": {},
   "source": [
    "Exportando"
   ]
  },
  {
   "cell_type": "code",
   "execution_count": 12,
   "id": "c7787fa7",
   "metadata": {},
   "outputs": [],
   "source": [
    "itens_azuis19[\"ano\"] = 2019\n",
    "itens_azuis20[\"ano\"] = 2020\n",
    "itens_azuis21[\"ano\"] = 2021\n",
    "itens_azuis22[\"ano\"] = 2022\n",
    "itens_azuis23[\"ano\"] = 2023\n",
    "\n",
    "itens_azuis20 = itens_azuis20.drop(columns=[\"TP_VERSAO_DIGITAL\"], errors=\"ignore\")\n",
    "\n",
    "itens_azuis19.to_csv(\"../dados/processados/ITENS_PROVA_2019_AZUL.csv\", index=False)\n",
    "itens_azuis20.to_csv(\"../dados/processados/ITENS_PROVA_2020_AZUL.csv\", index=False)\n",
    "itens_azuis21.to_csv(\"../dados/processados/ITENS_PROVA_2021_AZUL.csv\", index=False)\n",
    "itens_azuis22.to_csv(\"../dados/processados/ITENS_PROVA_2022_AZUL.csv\", index=False)\n",
    "itens_azuis23.to_csv(\"../dados/processados/ITENS_PROVA_2023_AZUL.csv\", index=False)"
   ]
  },
  {
   "cell_type": "markdown",
   "id": "8c3821ac",
   "metadata": {},
   "source": [
    "Exportando agr um que seria o de treino (2019-2022)"
   ]
  },
  {
   "cell_type": "code",
   "execution_count": 13,
   "id": "b486dbea",
   "metadata": {},
   "outputs": [],
   "source": [
    "# Junta os DataFrames de 2019 a 2022\n",
    "itens_azuis_2019_ate_2022 = pd.concat([\n",
    "    itens_azuis19,\n",
    "    itens_azuis20,\n",
    "    itens_azuis21,\n",
    "    itens_azuis22\n",
    "], ignore_index=True)\n",
    "\n",
    "# Exporta para CSV\n",
    "itens_azuis_2019_ate_2022.to_csv(\"../dados/processados/ITENS_PROVA_2019_ATE_2022_AZUL.csv\", index=False)\n"
   ]
  }
 ],
 "metadata": {
  "kernelspec": {
   "display_name": "Python 3",
   "language": "python",
   "name": "python3"
  },
  "language_info": {
   "codemirror_mode": {
    "name": "ipython",
    "version": 3
   },
   "file_extension": ".py",
   "mimetype": "text/x-python",
   "name": "python",
   "nbconvert_exporter": "python",
   "pygments_lexer": "ipython3",
   "version": "3.11.0"
  }
 },
 "nbformat": 4,
 "nbformat_minor": 5
}
