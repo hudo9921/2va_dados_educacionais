{
 "cells": [
  {
   "cell_type": "code",
   "execution_count": null,
   "id": "42b27afe",
   "metadata": {},
   "outputs": [],
   "source": [
    "import pandas as pd"
   ]
  },
  {
   "cell_type": "markdown",
   "id": "af0f9d4e",
   "metadata": {},
   "source": [
    "## Pegando as informacoes das provas (todas caderno azul) e exportando no final"
   ]
  },
  {
   "cell_type": "markdown",
   "id": "af6b94c6",
   "metadata": {},
   "source": [
    "Prova de 2019"
   ]
  },
  {
   "cell_type": "code",
   "execution_count": null,
   "id": "e44afa60",
   "metadata": {},
   "outputs": [],
   "source": [
    "#carregando a prova de 2019 e pegando so a prova azul\n",
    "itens19 = pd.read_csv(\"../dados/raw/ITENS_PROVA_2019.csv\", encoding=\"ISO-8859-1\", sep=\";\")\n",
    "\n",
    "codigos_provas_azuis19 = [503, 507, 511, 515]\n",
    "\n",
    "# Filtro inicial: apenas provas azuis\n",
    "itens_azuis19 = itens19[itens19[\"CO_PROVA\"].isin(codigos_provas_azuis19)]\n",
    "\n",
    "# Filtro adicional: TP_LINGUA != 1 (ou seja, não espanhol) e TX_MOTIVO_ABAN vazio\n",
    "itens_azuis19 = itens_azuis19[\n",
    "    ((itens_azuis19[\"TP_LINGUA\"] != 1) | (itens_azuis19[\"TP_LINGUA\"].isna())) &\n",
    "    (itens_azuis19[\"TX_MOTIVO_ABAN\"].isna())\n",
    "]\n",
    "itens_azuis19 = itens_azuis19.sort_values(by=\"CO_POSICAO\").reset_index(drop=True)\n",
    "print(itens_azuis19.head())\n",
    "print(f\"Total de itens da prova azul em 2019 (sem língua espanhola nem abandono): {len(itens_azuis19)}\")"
   ]
  },
  {
   "cell_type": "markdown",
   "id": "7dc9912f",
   "metadata": {},
   "source": [
    "2020"
   ]
  },
  {
   "cell_type": "code",
   "execution_count": null,
   "id": "04cea433",
   "metadata": {},
   "outputs": [],
   "source": [
    "# Carregando a prova de 2020\n",
    "itens20 = pd.read_csv(\"../dados/raw/ITENS_PROVA_2020.csv\", encoding=\"ISO-8859-1\", sep=\";\")\n",
    "\n",
    "# Códigos das provas azuis em 2020 \n",
    "codigos_provas_azuis20 = [597,587,577,567]  \n",
    "\n",
    "# Filtro inicial: apenas provas azuis\n",
    "itens_azuis20 = itens20[itens20[\"CO_PROVA\"].isin(codigos_provas_azuis20)]\n",
    "\n",
    "# Filtro adicional: TP_LINGUA != 1 e TX_MOTIVO_ABAN vazio\n",
    "itens_azuis20 = itens_azuis20[\n",
    "    ((itens_azuis20[\"TP_LINGUA\"] != 1) | (itens_azuis20[\"TP_LINGUA\"].isna())) &\n",
    "    (itens_azuis20[\"TX_MOTIVO_ABAN\"].isna())\n",
    "]\n",
    "itens_azuis20 = itens_azuis20.sort_values(by=\"CO_POSICAO\").reset_index(drop=True)\n",
    "\n",
    "print(itens_azuis20.head())\n",
    "print(f\"Total de itens da prova azul em 2020 (sem língua espanhola nem abandono): {len(itens_azuis20)}\")\n"
   ]
  },
  {
   "cell_type": "markdown",
   "id": "bb3cf24c",
   "metadata": {},
   "source": [
    "2021"
   ]
  },
  {
   "cell_type": "code",
   "execution_count": null,
   "id": "3ee191d6",
   "metadata": {},
   "outputs": [],
   "source": [
    "# Carregando a prova de 2021\n",
    "itens21 = pd.read_csv(\"../dados/raw/ITENS_PROVA_2021.csv\", encoding=\"ISO-8859-1\", sep=\";\")\n",
    "\n",
    "# Códigos das provas azuis em 2021\n",
    "codigos_provas_azuis21 = [879,889,899,909] \n",
    "\n",
    "# Filtro inicial: apenas provas azuis\n",
    "itens_azuis21 = itens21[itens21[\"CO_PROVA\"].isin(codigos_provas_azuis21)]\n",
    "\n",
    "# Filtro adicional: TP_LINGUA != 1 (não espanhol) e TX_MOTIVO_ABAN vazio\n",
    "itens_azuis21 = itens_azuis21[\n",
    "    ((itens_azuis21[\"TP_LINGUA\"] != 1) | (itens_azuis21[\"TP_LINGUA\"].isna())) &\n",
    "    (itens_azuis21[\"TX_MOTIVO_ABAN\"].isna())\n",
    "]\n",
    "\n",
    "# Resultado\n",
    "print(itens_azuis21.head())\n",
    "print(f\"Total de itens da prova azul em 2021 (sem língua espanhola nem abandono): {len(itens_azuis21)}\")\n"
   ]
  },
  {
   "cell_type": "markdown",
   "id": "44b89716",
   "metadata": {},
   "source": [
    "2022"
   ]
  },
  {
   "cell_type": "code",
   "execution_count": 20,
   "id": "65eab2c2",
   "metadata": {},
   "outputs": [
    {
     "name": "stdout",
     "output_type": "stream",
     "text": [
      "   CO_POSICAO SG_AREA  CO_ITEM TX_GABARITO  CO_HABILIDADE  IN_ITEM_ABAN  \\\n",
      "0           1      LC   111918           D              8             0   \n",
      "1           2      LC   111835           C              7             0   \n",
      "2           3      LC   140767           B              6             0   \n",
      "3           4      LC   140731           D              5             0   \n",
      "4           5      LC   140626           E              6             0   \n",
      "\n",
      "  TX_MOTIVO_ABAN  NU_PARAM_A  NU_PARAM_B  NU_PARAM_C TX_COR  CO_PROVA  \\\n",
      "0            NaN     3.71022     0.34919     0.20287   AZUL      1065   \n",
      "1            NaN     2.64617     0.79049     0.18960   AZUL      1065   \n",
      "2            NaN     4.34313     0.36871     0.44865   AZUL      1065   \n",
      "3            NaN     2.88489     0.49591     0.18224   AZUL      1065   \n",
      "4            NaN     2.55762     0.57348     0.15419   AZUL      1065   \n",
      "\n",
      "   TP_LINGUA  IN_ITEM_ADAPTADO  \n",
      "0        0.0                 0  \n",
      "1        0.0                 0  \n",
      "2        0.0                 0  \n",
      "3        0.0                 0  \n",
      "4        0.0                 0  \n",
      "Total de itens da prova azul em 2022 (sem língua espanhola nem abandono): 173\n"
     ]
    }
   ],
   "source": [
    "# Carregando a prova de 2022\n",
    "itens22 = pd.read_csv(\"../dados/raw/ITENS_PROVA_2022.csv\", encoding=\"ISO-8859-1\", sep=\";\")\n",
    "\n",
    "# Códigos das provas azuis em 2022\n",
    "# Exemplo baseado na sequência CN, CH, LC, MT como nos anos anteriores — ajuste se necessário\n",
    "codigos_provas_azuis22 = [1055, 1065, 1075, 1085]\n",
    "\n",
    "# Filtro inicial: apenas provas azuis\n",
    "itens_azuis22 = itens22[itens22[\"CO_PROVA\"].isin(codigos_provas_azuis22)]\n",
    "\n",
    "# Filtro adicional: TP_LINGUA != 1 (não espanhol) e TX_MOTIVO_ABAN vazio\n",
    "itens_azuis22 = itens_azuis22[\n",
    "    ((itens_azuis22[\"TP_LINGUA\"] != 1) | (itens_azuis22[\"TP_LINGUA\"].isna())) &\n",
    "    (itens_azuis22[\"TX_MOTIVO_ABAN\"].isna())\n",
    "]\n",
    "itens_azuis22 = itens_azuis22.sort_values(by=\"CO_POSICAO\").reset_index(drop=True)\n",
    "# Resultado\n",
    "print(itens_azuis22.head())\n",
    "print(f\"Total de itens da prova azul em 2022 (sem língua espanhola nem abandono): {len(itens_azuis22)}\")\n"
   ]
  },
  {
   "cell_type": "markdown",
   "id": "e041f066",
   "metadata": {},
   "source": [
    "2023"
   ]
  },
  {
   "cell_type": "code",
   "execution_count": 21,
   "id": "c3e40d8d",
   "metadata": {},
   "outputs": [
    {
     "name": "stdout",
     "output_type": "stream",
     "text": [
      "   CO_POSICAO SG_AREA  CO_ITEM TX_GABARITO  CO_HABILIDADE  IN_ITEM_ABAN  \\\n",
      "0           1      LC   140743           B              6             0   \n",
      "1           2      LC   140595           B              5             0   \n",
      "2           3      LC   140736           D              8             0   \n",
      "3           4      LC   140785           A              8             0   \n",
      "4           5      LC   140732           B              7             0   \n",
      "\n",
      "  TX_MOTIVO_ABAN  NU_PARAM_A  NU_PARAM_B  NU_PARAM_C TX_COR  CO_PROVA  \\\n",
      "0            NaN     2.79003     0.21669     0.49995   AZUL      1201   \n",
      "1            NaN     2.11783     1.27877     0.12469   AZUL      1201   \n",
      "2            NaN     2.40685     0.91466     0.10159   AZUL      1201   \n",
      "3            NaN     2.47870     0.39216     0.33723   AZUL      1201   \n",
      "4            NaN     2.91867     0.12363     0.19992   AZUL      1201   \n",
      "\n",
      "   TP_LINGUA  IN_ITEM_ADAPTADO  \n",
      "0        0.0                 0  \n",
      "1        0.0                 0  \n",
      "2        0.0                 0  \n",
      "3        0.0                 0  \n",
      "4        0.0                 0  \n",
      "Total de itens da prova azul em 2023 (sem língua espanhola nem abandono): 178\n"
     ]
    }
   ],
   "source": [
    "# Carregando a prova de 2023\n",
    "itens23 = pd.read_csv(\"../dados/raw/ITENS_PROVA_2023.csv\", encoding=\"ISO-8859-1\", sep=\";\")\n",
    "\n",
    "# Códigos das provas azuis em 2023 (ajuste se necessário)\n",
    "codigos_provas_azuis23 = [1191,1201,1211,1221]  # CN, CH, LC, MT\n",
    "\n",
    "# Filtro inicial: apenas provas azuis\n",
    "itens_azuis23 = itens23[itens23[\"CO_PROVA\"].isin(codigos_provas_azuis23)]\n",
    "\n",
    "# Filtro adicional: TP_LINGUA != 1 (não espanhol) e TX_MOTIVO_ABAN vazio\n",
    "itens_azuis23 = itens_azuis23[\n",
    "    ((itens_azuis23[\"TP_LINGUA\"] != 1) | (itens_azuis23[\"TP_LINGUA\"].isna())) &\n",
    "    (itens_azuis23[\"TX_MOTIVO_ABAN\"].isna())\n",
    "]\n",
    "itens_azuis23 = itens_azuis23.sort_values(by=\"CO_POSICAO\").reset_index(drop=True)\n",
    "# Resultado\n",
    "print(itens_azuis23.head())\n",
    "print(f\"Total de itens da prova azul em 2023 (sem língua espanhola nem abandono): {len(itens_azuis23)}\")\n"
   ]
  },
  {
   "cell_type": "markdown",
   "id": "63b9298f",
   "metadata": {},
   "source": [
    "Exportando"
   ]
  },
  {
   "cell_type": "code",
   "execution_count": 22,
   "id": "c7787fa7",
   "metadata": {},
   "outputs": [],
   "source": [
    "itens_azuis19[\"ano\"] = 2019\n",
    "itens_azuis20[\"ano\"] = 2020\n",
    "itens_azuis21[\"ano\"] = 2021\n",
    "itens_azuis22[\"ano\"] = 2022\n",
    "itens_azuis23[\"ano\"] = 2023\n",
    "\n",
    "itens_azuis20 = itens_azuis20.drop(columns=[\"TP_VERSAO_DIGITAL\"], errors=\"ignore\")\n",
    "\n",
    "itens_azuis19.to_csv(\"../dados/processados/ITENS_PROVA_2019_AZUL.csv\", index=False)\n",
    "itens_azuis20.to_csv(\"../dados/processados/ITENS_PROVA_2020_AZUL.csv\", index=False)\n",
    "itens_azuis21.to_csv(\"../dados/processados/ITENS_PROVA_2021_AZUL.csv\", index=False)\n",
    "itens_azuis22.to_csv(\"../dados/processados/ITENS_PROVA_2022_AZUL.csv\", index=False)\n",
    "itens_azuis23.to_csv(\"../dados/processados/ITENS_PROVA_2023_AZUL.csv\", index=False)"
   ]
  },
  {
   "cell_type": "markdown",
   "id": "8c3821ac",
   "metadata": {},
   "source": [
    "Exportando agr um que seria o de treino (2019-2022)"
   ]
  },
  {
   "cell_type": "code",
   "execution_count": null,
   "id": "b486dbea",
   "metadata": {},
   "outputs": [],
   "source": [
    "# Junta os DataFrames de 2019 a 2022\n",
    "itens_azuis_2019_ate_2022 = pd.concat([\n",
    "    itens_azuis19,\n",
    "    itens_azuis20,\n",
    "    itens_azuis21,\n",
    "    itens_azuis22\n",
    "], ignore_index=True)\n",
    "\n",
    "# Exporta para CSV\n",
    "itens_azuis_2019_ate_2022.to_csv(\"../dados/processados/ITENS_PROVA_2019_ATE_2022_AZUL.csv\", index=False)\n"
   ]
  }
 ],
 "metadata": {
  "kernelspec": {
   "display_name": "Python 3",
   "language": "python",
   "name": "python3"
  },
  "language_info": {
   "codemirror_mode": {
    "name": "ipython",
    "version": 3
   },
   "file_extension": ".py",
   "mimetype": "text/x-python",
   "name": "python",
   "nbconvert_exporter": "python",
   "pygments_lexer": "ipython3",
   "version": "3.11.0"
  }
 },
 "nbformat": 4,
 "nbformat_minor": 5
}
